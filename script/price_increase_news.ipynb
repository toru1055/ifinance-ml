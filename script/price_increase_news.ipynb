{
 "cells": [
  {
   "cell_type": "code",
   "execution_count": 1,
   "metadata": {
    "collapsed": false
   },
   "outputs": [],
   "source": [
    "import os\n",
    "import numpy as np\n",
    "from janome.tokenizer import Tokenizer\n",
    "\n",
    "t = Tokenizer()\n",
    "data_dir = \"../data/PriceIncreaseNews\"\n",
    "files = os.listdir(data_dir)\n",
    "\n",
    "y = []\n",
    "NewsList = []\n",
    "for file in files:\n",
    "    f = open(data_dir + '/' + file, 'r')\n",
    "    next(f)\n",
    "    for line in f:\n",
    "        (stock_id, ratio, news) = line[:-1].split('\\t')\n",
    "        tokens = t.tokenize(news)\n",
    "        token_list = [token.surface for token in tokens if token.part_of_speech.count(\"数詞\") == 0]\n",
    "        y.append(float(ratio))\n",
    "        NewsList.append(news)\n",
    "    f.close()\n",
    "y = np.array(y)\n",
    "\n",
    "def stems(text):\n",
    "    token_list = [token.surface for token in t.tokenize(text) if token.part_of_speech.count(\"数\") == 0]\n",
    "    return set(token_list)\n",
    "\n",
    "def accuracy(y_test, y_pred):\n",
    "    t = 0.0\n",
    "    f = 0.0\n",
    "    for yi, yi_ in zip(y_test, y_pred):\n",
    "        if(yi * yi_ > 0.0):\n",
    "            t += 1.0\n",
    "        else:\n",
    "            f += 1.0\n",
    "    return t/(t+f)"
   ]
  },
  {
   "cell_type": "code",
   "execution_count": 2,
   "metadata": {
    "collapsed": false,
    "scrolled": true
   },
   "outputs": [],
   "source": [
    "from sklearn.feature_extraction.text import TfidfVectorizer\n",
    "from sklearn.feature_extraction.text import CountVectorizer\n",
    "\n",
    "vectorizer = TfidfVectorizer(analyzer=stems, ngram_range=(1, 1))\n",
    "count_vec = CountVectorizer(analyzer=stems, ngram_range=(1, 1))\n",
    "X_tfidf = vectorizer.fit_transform(NewsList)\n",
    "X_count = count_vec.fit_transform(NewsList)"
   ]
  },
  {
   "cell_type": "code",
   "execution_count": 3,
   "metadata": {
    "collapsed": false
   },
   "outputs": [
    {
     "name": "stdout",
     "output_type": "stream",
     "text": [
      "alpha_list:  [0.01, 0.02, 0.04, 0.08, 0.16, 0.32, 0.64, 1.28, 2.56, 5.12, 10.24, 20.48]\n"
     ]
    },
    {
     "data": {
      "image/png": "[encoded data removed]",
      "text/plain": [
       "<matplotlib.figure.Figure at 0x11b1d2748>"
      ]
     },
     "metadata": {},
     "output_type": "display_data"
    },
    {
     "name": "stdout",
     "output_type": "stream",
     "text": [
      "mse 36.3574841407\n",
      "accuracy 0.622202327663384\n"
     ]
    }
   ],
   "source": [
    "%matplotlib inline\n",
    "import matplotlib.pyplot as plt\n",
    "from sklearn.linear_model import RidgeCV\n",
    "from sklearn.ensemble import RandomForestRegressor\n",
    "from sklearn.linear_model import Lasso\n",
    "from sklearn.metrics import mean_squared_error as mse\n",
    "from sklearn.cross_validation import train_test_split\n",
    "\n",
    "#X_train, X_test, y_train, y_test = train_test_split(X_tfidf, y, test_size=0.2, random_state=1)\n",
    "X_train, X_test, y_train, y_test = train_test_split(X_count, y, test_size=0.2, random_state=1)\n",
    "alpha_list =  [0.01 * pow(2, i) for i in range(12)]\n",
    "print(\"alpha_list: \", alpha_list)\n",
    "slr = RidgeCV(alphas = alpha_list)\n",
    "#slr = RandomForestRegressor(criterion = 'mse')\n",
    "slr.fit(X_train, y_train)\n",
    "\n",
    "y_pred = slr.predict(X_test)\n",
    "plt.scatter(y_test, y_pred)\n",
    "plt.xlabel('Actual')\n",
    "plt.ylabel('predicted')\n",
    "plt.show()\n",
    "\n",
    "print(\"mse\", mse(y_test, y_pred))\n",
    "print(\"accuracy\", accuracy(y_test, y_pred))"
   ]
  },
  {
   "cell_type": "code",
   "execution_count": 4,
   "metadata": {
    "collapsed": false
   },
   "outputs": [],
   "source": [
    "coef_map = {term:coef for term, coef in zip(vectorizer.get_feature_names(), slr.coef_)}"
   ]
  },
  {
   "cell_type": "code",
   "execution_count": 5,
   "metadata": {
    "collapsed": false
   },
   "outputs": [
    {
     "name": "stdout",
     "output_type": "stream",
     "text": [
      "=== 上位coef ===\n",
      "('指定', 4.5387995603727962)\n",
      "('ヤフー', 3.5966350160370721)\n",
      "('替え', 3.2954925660539724)\n",
      "('TOB', 3.1977711101254407)\n",
      "('合意', 3.0165238174643925)\n",
      "('解除', 2.976222063817906)\n",
      "('ブロック', 2.9193997075789229)\n",
      "('運用', 2.8624701842749527)\n",
      "('新設', 2.8525045107256175)\n",
      "('代理', 2.6896697006818218)\n",
      "('実施', 2.5634968723159357)\n",
      "('LINE', 2.56248283499853)\n",
      "('販促', 2.5386510435560594)\n",
      "('ポータルサイト', 2.531583835443735)\n",
      "('生体', 2.5264352119733671)\n",
      "('上方', 2.4954643041516582)\n",
      "('医療', 2.4724982916123652)\n",
      "('増配', 2.4699916905473782)\n",
      "('スタジオ', 2.2286480977099141)\n",
      "('工場', 2.1570298141968771)\n",
      "('東証', 2.146368072621581)\n",
      "('チェーン', 2.1315407508918565)\n",
      "('提携', 2.0454854451603044)\n",
      "('認証', 2.0233447005962324)\n",
      "('イトーキ', 1.9647459406998431)\n",
      "\n",
      "=== 下位coef ===\n",
      "('規制', -3.9622782193976187)\n",
      "('信用', -3.7211782366486661)\n",
      "('下方', -3.3435725256673638)\n",
      "('減配', -3.1720208895715842)\n",
      "('変更', -2.6495634911131178)\n",
      "('減益', -2.404047815689498)\n",
      "('中', -2.3113119139982001)\n",
      "('減', -2.1352163377072038)\n",
      "('ステージ', -2.1149500474166176)\n",
      "('売り出し', -2.0899934798156092)\n",
      "('終了', -2.0589801389891207)\n",
      "('廃止', -2.0486481047456788)\n",
      "('残高', -2.0417053018277525)\n",
      "('発覚', -2.0193574187438275)\n",
      "('ヤンセン', -1.9872478867135797)\n",
      "('JST', -1.9435942581971486)\n",
      "('創', -1.8187673442691721)\n",
      "('転落', -1.8006071180628818)\n",
      "('米', -1.7584604401784429)\n",
      "('自社', -1.72823356278649)\n",
      "('赤字', -1.6843769173204233)\n",
      "('以上', -1.6720844412783138)\n",
      "('係る', -1.6577063854602909)\n",
      "('不正', -1.6446249241663418)\n",
      "('プログラム', -1.6069781959008398)\n"
     ]
    }
   ],
   "source": [
    "print('=== 上位coef ===')\n",
    "for c_tup in sorted(coef_map.items(), key=lambda x:x[1], reverse=True)[:25]:\n",
    "    print(c_tup)\n",
    "    \n",
    "print('\\n=== 下位coef ===')\n",
    "for c_tup in sorted(coef_map.items(), key=lambda x:x[1], reverse=False)[:25]:\n",
    "    print(c_tup)"
   ]
  },
  {
   "cell_type": "code",
   "execution_count": 6,
   "metadata": {
    "collapsed": false
   },
   "outputs": [
    {
     "name": "stdout",
     "output_type": "stream",
     "text": [
      "10.24\n"
     ]
    }
   ],
   "source": [
    "print(slr.alpha_)"
   ]
  },
  {
   "cell_type": "code",
   "execution_count": null,
   "metadata": {
    "collapsed": true
   },
   "outputs": [],
   "source": []
  }
 ],
 "metadata": {
  "kernelspec": {
   "display_name": "Python [Root]",
   "language": "python",
   "name": "Python [Root]"
  },
  "language_info": {
   "codemirror_mode": {
    "name": "ipython",
    "version": 3
   },
   "file_extension": ".py",
   "mimetype": "text/x-python",
   "name": "python",
   "nbconvert_exporter": "python",
   "pygments_lexer": "ipython3",
   "version": "3.5.1"
  }
 },
 "nbformat": 4,
 "nbformat_minor": 0
}
